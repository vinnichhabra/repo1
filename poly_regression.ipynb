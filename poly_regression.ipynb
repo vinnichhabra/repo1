{
  "nbformat": 4,
  "nbformat_minor": 0,
  "metadata": {
    "colab": {
      "name": "poly_regression.ipynb",
      "version": "0.3.2",
      "provenance": [],
      "include_colab_link": true
    },
    "kernelspec": {
      "name": "python3",
      "display_name": "Python 3"
    }
  },
  "cells": [
    {
      "cell_type": "markdown",
      "metadata": {
        "id": "view-in-github",
        "colab_type": "text"
      },
      "source": [
        "<a href=\"https://colab.research.google.com/github/vinnichhabra/repo1/blob/master/poly_regression.ipynb\" target=\"_parent\"><img src=\"https://colab.research.google.com/assets/colab-badge.svg\" alt=\"Open In Colab\"/></a>"
      ]
    },
    {
      "cell_type": "code",
      "metadata": {
        "id": "KTSEecudC_xH",
        "colab_type": "code",
        "colab": {}
      },
      "source": [
        "import pandas as pd\n",
        "import matplotlib.pyplot as plt\n"
      ],
      "execution_count": 0,
      "outputs": []
    },
    {
      "cell_type": "code",
      "metadata": {
        "id": "g-Mp1bxkD3bz",
        "colab_type": "code",
        "colab": {}
      },
      "source": [
        "#data loading\n",
        "df=pd.read_csv('http://13.234.66.67/summer19/datasets/salary.csv')"
      ],
      "execution_count": 0,
      "outputs": []
    },
    {
      "cell_type": "code",
      "metadata": {
        "id": "uKDEq1K-EAo7",
        "colab_type": "code",
        "colab": {}
      },
      "source": [
        "#exp\n",
        "exp=df.iloc[:,0:1].values"
      ],
      "execution_count": 0,
      "outputs": []
    },
    {
      "cell_type": "code",
      "metadata": {
        "id": "ycKDvMEIEL59",
        "colab_type": "code",
        "colab": {}
      },
      "source": [
        "#sal\n",
        "sal=df.iloc[:,1:].values"
      ],
      "execution_count": 0,
      "outputs": []
    },
    {
      "cell_type": "code",
      "metadata": {
        "id": "2DWG2KYFETtG",
        "colab_type": "code",
        "colab": {}
      },
      "source": [
        "# call linear model just for comparison\n",
        "from sklearn.linear_model import LinearRegression\n",
        "regr1=LinearRegression()"
      ],
      "execution_count": 0,
      "outputs": []
    },
    {
      "cell_type": "code",
      "metadata": {
        "id": "iv861O0eEn8p",
        "colab_type": "code",
        "colab": {}
      },
      "source": [
        "#to transfer dta we can call poly transform method\n",
        "from sklearn.preprocessing import PolynomialFeatures"
      ],
      "execution_count": 0,
      "outputs": []
    },
    {
      "cell_type": "code",
      "metadata": {
        "id": "DEXt8SO7Eylu",
        "colab_type": "code",
        "colab": {}
      },
      "source": [
        "#experience transform\n",
        "poly=PolynomialFeatures(degree=8)"
      ],
      "execution_count": 0,
      "outputs": []
    },
    {
      "cell_type": "code",
      "metadata": {
        "id": "kN5YL4GbE90_",
        "colab_type": "code",
        "colab": {}
      },
      "source": [
        "# exp fit\n",
        "newexp=poly.fit_transform(exp)"
      ],
      "execution_count": 0,
      "outputs": []
    },
    {
      "cell_type": "code",
      "metadata": {
        "id": "utgJAECFFjWi",
        "colab_type": "code",
        "colab": {}
      },
      "source": [
        "# apply linear regression\n",
        "trained=regr1.fit(exp,sal)"
      ],
      "execution_count": 0,
      "outputs": []
    },
    {
      "cell_type": "code",
      "metadata": {
        "id": "jNQNap6MF7Te",
        "colab_type": "code",
        "colab": {
          "base_uri": "https://localhost:8080/",
          "height": 283
        },
        "outputId": "6a494d1e-9a9f-45d4-9095-8adf6ec011fe"
      },
      "source": [
        "# now creating linear model again \n",
        "plt.xlabel(\"exp\")\n",
        "plt.ylabel(\"sal\")\n",
        "plt.scatter(exp,sal,label=\"actual sal\")\n",
        "plt.plot(exp,trained.predict(exp),label=\"linear model predict sal\")\n",
        "plt.legend()\n",
        "plt.show()"
      ],
      "execution_count": 33,
      "outputs": [
        {
          "output_type": "display_data",
          "data": {
            "image/png": "[encoded data removed]",
            "text/plain": [
              "<Figure size 432x288 with 1 Axes>"
            ]
          },
          "metadata": {
            "tags": []
          }
        }
      ]
    },
    {
      "cell_type": "code",
      "metadata": {
        "id": "MTAZvLwxGj0V",
        "colab_type": "code",
        "colab": {}
      },
      "source": [
        "\n",
        "#apply new experience data in model\n",
        "regr2=LinearRegression()\n"
      ],
      "execution_count": 0,
      "outputs": []
    },
    {
      "cell_type": "code",
      "metadata": {
        "id": "sShncAzpG9tZ",
        "colab_type": "code",
        "colab": {}
      },
      "source": [
        "#new exp data apply\n",
        "trained1=regr2.fit(newexp,sal)"
      ],
      "execution_count": 0,
      "outputs": []
    },
    {
      "cell_type": "code",
      "metadata": {
        "id": "oI_vujIuHFVR",
        "colab_type": "code",
        "colab": {
          "base_uri": "https://localhost:8080/",
          "height": 283
        },
        "outputId": "18ef26b0-339a-4415-89fa-214fde94dfe7"
      },
      "source": [
        "# now creating linear model again \n",
        "plt.xlabel(\"exp\")\n",
        "plt.ylabel(\"sal\")\n",
        "plt.scatter(exp,sal,label=\"actual sal\")\n",
        "plt.plot(exp,trained1.predict(newexp),label=\"newmodel\")\n",
        "plt.legend()\n",
        "plt.show()"
      ],
      "execution_count": 37,
      "outputs": [
        {
          "output_type": "display_data",
          "data": {
            "image/png": "[encoded data removed]",
            "text/plain": [
              "<Figure size 432x288 with 1 Axes>"
            ]
          },
          "metadata": {
            "tags": []
          }
        }
      ]
    },
    {
      "cell_type": "code",
      "metadata": {
        "id": "09vhXL8RH7pl",
        "colab_type": "code",
        "colab": {}
      },
      "source": [
        ""
      ],
      "execution_count": 0,
      "outputs": []
    },
    {
      "cell_type": "code",
      "metadata": {
        "colab_type": "code",
        "id": "3XrRhRXrJO-Q",
        "colab": {}
      },
      "source": [
        "# sal fit\n",
        "newsal=poly.fit_transform(exp)"
      ],
      "execution_count": 0,
      "outputs": []
    },
    {
      "cell_type": "code",
      "metadata": {
        "id": "RmUtPQeFJA9n",
        "colab_type": "code",
        "colab": {}
      },
      "source": [
        ""
      ],
      "execution_count": 0,
      "outputs": []
    }
  ]
}