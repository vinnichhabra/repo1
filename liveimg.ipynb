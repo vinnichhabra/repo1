{
  "nbformat": 4,
  "nbformat_minor": 0,
  "metadata": {
    "colab": {
      "name": "liveimg.ipynb",
      "version": "0.3.2",
      "provenance": [],
      "collapsed_sections": [],
      "include_colab_link": true
    },
    "kernelspec": {
      "name": "python3",
      "display_name": "Python 3"
    }
  },
  "cells": [
    {
      "cell_type": "markdown",
      "metadata": {
        "id": "view-in-github",
        "colab_type": "text"
      },
      "source": [
        "<a href=\"https://colab.research.google.com/github/vinnichhabra/repo1/blob/master/liveimg.ipynb\" target=\"_parent\"><img src=\"https://colab.research.google.com/assets/colab-badge.svg\" alt=\"Open In Colab\"/></a>"
      ]
    },
    {
      "cell_type": "code",
      "metadata": {
        "id": "1bkMeQDfVQiS",
        "colab_type": "code",
        "colab": {}
      },
      "source": [
        "#!/usr/bin/python3 \n",
        " import cv2\n",
        "  \n",
        "  #starting camera\n",
        "  cap=cv2.VideoCapture(0)\n",
        "  \n",
        "  while cap.isOpened():\n",
        "    status,frame=cap.read()\n",
        "    cv2.imshow('live',frame)\n",
        "    \n",
        "    if cv2.waitkey(10) & 0xff == ord('q'): \n",
        "      break\n",
        "      \n",
        "#cv2.destroyWindow('live')\n",
        "cv2.destroyAllWindows() #this will destroy all windows\n",
        "\n",
        "#to close camera\n",
        "cap.release()"
      ],
      "execution_count": 0,
      "outputs": []
    }
  ]
}