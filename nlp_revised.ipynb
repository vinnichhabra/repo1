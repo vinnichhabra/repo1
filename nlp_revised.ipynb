{
  "nbformat": 4,
  "nbformat_minor": 0,
  "metadata": {
    "colab": {
      "name": "nlp_revised.ipynb",
      "version": "0.3.2",
      "provenance": [],
      "collapsed_sections": [],
      "include_colab_link": true
    },
    "kernelspec": {
      "name": "python3",
      "display_name": "Python 3"
    }
  },
  "cells": [
    {
      "cell_type": "markdown",
      "metadata": {
        "id": "view-in-github",
        "colab_type": "text"
      },
      "source": [
        "<a href=\"https://colab.research.google.com/github/vinnichhabra/repo1/blob/master/nlp_revised.ipynb\" target=\"_parent\"><img src=\"https://colab.research.google.com/assets/colab-badge.svg\" alt=\"Open In Colab\"/></a>"
      ]
    },
    {
      "cell_type": "code",
      "metadata": {
        "id": "s98G6cK0fmyI",
        "colab_type": "code",
        "colab": {}
      },
      "source": [
        "import spacy\n"
      ],
      "execution_count": 0,
      "outputs": []
    },
    {
      "cell_type": "code",
      "metadata": {
        "id": "SHXC9paJfrsA",
        "colab_type": "code",
        "colab": {}
      },
      "source": [
        "nlp=spacy.load('en')"
      ],
      "execution_count": 0,
      "outputs": []
    },
    {
      "cell_type": "code",
      "metadata": {
        "id": "39F_Dj_dfuxr",
        "colab_type": "code",
        "colab": {}
      },
      "source": [
        "data=\"hello world i am going outside for playing cricket\""
      ],
      "execution_count": 0,
      "outputs": []
    },
    {
      "cell_type": "code",
      "metadata": {
        "id": "CaE7zZiff131",
        "colab_type": "code",
        "colab": {}
      },
      "source": [
        "new_data=nlp(data)"
      ],
      "execution_count": 0,
      "outputs": []
    },
    {
      "cell_type": "code",
      "metadata": {
        "id": "aXR8FEOAf49x",
        "colab_type": "code",
        "outputId": "a76f6f2d-669d-4bc3-f9a7-6a0050155b21",
        "colab": {
          "base_uri": "https://localhost:8080/",
          "height": 470
        }
      },
      "source": [
        "for i in new_data:\n",
        "  print(i,\"lemmatization of word is ...>\",i.lemma_)\n",
        "  print(\"######################\")\n",
        "  print(i,\"POS\",i.pos_)"
      ],
      "execution_count": 8,
      "outputs": [
        {
          "output_type": "stream",
          "text": [
            "hello lemmatization of word is ...> hello\n",
            "######################\n",
            "hello POS INTJ\n",
            "world lemmatization of word is ...> world\n",
            "######################\n",
            "world POS NOUN\n",
            "i lemmatization of word is ...> i\n",
            "######################\n",
            "i POS PRON\n",
            "am lemmatization of word is ...> be\n",
            "######################\n",
            "am POS VERB\n",
            "going lemmatization of word is ...> go\n",
            "######################\n",
            "going POS VERB\n",
            "outside lemmatization of word is ...> outside\n",
            "######################\n",
            "outside POS ADV\n",
            "for lemmatization of word is ...> for\n",
            "######################\n",
            "for POS ADP\n",
            "playing lemmatization of word is ...> play\n",
            "######################\n",
            "playing POS VERB\n",
            "cricket lemmatization of word is ...> cricket\n",
            "######################\n",
            "cricket POS NOUN\n"
          ],
          "name": "stdout"
        }
      ]
    },
    {
      "cell_type": "code",
      "metadata": {
        "id": "DjzttwaggFic",
        "colab_type": "code",
        "colab": {}
      },
      "source": [
        ""
      ],
      "execution_count": 0,
      "outputs": []
    }
  ]
}