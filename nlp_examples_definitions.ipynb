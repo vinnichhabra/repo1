{
  "nbformat": 4,
  "nbformat_minor": 0,
  "metadata": {
    "colab": {
      "name": "nlp_examples_definitions.ipynb",
      "version": "0.3.2",
      "provenance": [],
      "collapsed_sections": [],
      "include_colab_link": true
    },
    "kernelspec": {
      "name": "python3",
      "display_name": "Python 3"
    }
  },
  "cells": [
    {
      "cell_type": "markdown",
      "metadata": {
        "id": "view-in-github",
        "colab_type": "text"
      },
      "source": [
        "<a href=\"https://colab.research.google.com/github/vinnichhabra/repo1/blob/master/nlp_examples_definitions.ipynb\" target=\"_parent\"><img src=\"https://colab.research.google.com/assets/colab-badge.svg\" alt=\"Open In Colab\"/></a>"
      ]
    },
    {
      "cell_type": "code",
      "metadata": {
        "id": "blrH-1yNhQGf",
        "colab_type": "code",
        "colab": {}
      },
      "source": [
        "from nltk.corpus import wordnet\n",
        "import time"
      ],
      "execution_count": 0,
      "outputs": []
    },
    {
      "cell_type": "code",
      "metadata": {
        "id": "G7_DSBhLhjL_",
        "colab_type": "code",
        "colab": {}
      },
      "source": [
        "ws=wordnet.synsets('work')  #lemma word pass\n"
      ],
      "execution_count": 0,
      "outputs": []
    },
    {
      "cell_type": "code",
      "metadata": {
        "id": "kJvBhpl0hrD6",
        "colab_type": "code",
        "outputId": "656e9faf-6727-4198-ab1f-d8295ee817ff",
        "colab": {
          "base_uri": "https://localhost:8080/",
          "height": 34
        }
      },
      "source": [
        "len(ws)\n"
      ],
      "execution_count": 0,
      "outputs": [
        {
          "output_type": "execute_result",
          "data": {
            "text/plain": [
              "34"
            ]
          },
          "metadata": {
            "tags": []
          },
          "execution_count": 4
        }
      ]
    },
    {
      "cell_type": "code",
      "metadata": {
        "id": "entSfjh1htBI",
        "colab_type": "code",
        "outputId": "28ba1030-eedd-45cd-d204-9437dc5850f2",
        "colab": {
          "base_uri": "https://localhost:8080/",
          "height": 34
        }
      },
      "source": [
        "\n",
        "ws[0].definition()"
      ],
      "execution_count": 0,
      "outputs": [
        {
          "output_type": "execute_result",
          "data": {
            "text/plain": [
              "'activity directed toward making or doing something'"
            ]
          },
          "metadata": {
            "tags": []
          },
          "execution_count": 5
        }
      ]
    },
    {
      "cell_type": "code",
      "metadata": {
        "id": "Nu7hI7d-hzql",
        "colab_type": "code",
        "outputId": "022086ec-5140-45b3-b925-356d572c06e9",
        "colab": {
          "base_uri": "https://localhost:8080/",
          "height": 34
        }
      },
      "source": [
        "ws[1].definition()"
      ],
      "execution_count": 0,
      "outputs": [
        {
          "output_type": "execute_result",
          "data": {
            "text/plain": [
              "'a product produced or accomplished through the effort or activity or agency of a person or thing'"
            ]
          },
          "metadata": {
            "tags": []
          },
          "execution_count": 6
        }
      ]
    },
    {
      "cell_type": "code",
      "metadata": {
        "id": "pQ5D4JInh4XI",
        "colab_type": "code",
        "outputId": "5796e4d0-2c72-4abe-fcba-7347d4be8152",
        "colab": {
          "base_uri": "https://localhost:8080/",
          "height": 34
        }
      },
      "source": [
        "ws[0].examples()"
      ],
      "execution_count": 0,
      "outputs": [
        {
          "output_type": "execute_result",
          "data": {
            "text/plain": [
              "['she checked several points needing further work']"
            ]
          },
          "metadata": {
            "tags": []
          },
          "execution_count": 7
        }
      ]
    },
    {
      "cell_type": "code",
      "metadata": {
        "id": "p7shpIhqiB4k",
        "colab_type": "code",
        "outputId": "fb61bc38-4d5e-4e77-d6a1-d51174ccdc8b",
        "colab": {
          "base_uri": "https://localhost:8080/",
          "height": 101
        }
      },
      "source": [
        "ws[1].examples()"
      ],
      "execution_count": 0,
      "outputs": [
        {
          "output_type": "execute_result",
          "data": {
            "text/plain": [
              "['it is not regarded as one of his more memorable works',\n",
              " 'the symphony was hailed as an ingenious work',\n",
              " 'he was indebted to the pioneering work of John Dewey',\n",
              " 'the work of an active imagination',\n",
              " 'erosion is the work of wind or water over time']"
            ]
          },
          "metadata": {
            "tags": []
          },
          "execution_count": 8
        }
      ]
    },
    {
      "cell_type": "code",
      "metadata": {
        "id": "oSX1L0OhiTo9",
        "colab_type": "code",
        "outputId": "a74b1666-817e-4bb8-ed69-7d93a6048443",
        "colab": {
          "base_uri": "https://localhost:8080/",
          "height": 1000
        }
      },
      "source": [
        "#exploring all the book\n",
        "msg=input('enter your key word you want to know about :--')\n",
        "for i in wordnet.synsets(msg):\n",
        "  print(\"____________\")\n",
        "  print(i.definition())\n",
        "  print(\"____________\")\n",
        "  print(i.examples())\n",
        "  time.sleep(10)\n",
        "  "
      ],
      "execution_count": 0,
      "outputs": [
        {
          "output_type": "stream",
          "text": [
            "enter your key word you want to know about :--work\n",
            "____________\n",
            "activity directed toward making or doing something\n",
            "____________\n",
            "['she checked several points needing further work']\n",
            "____________\n",
            "a product produced or accomplished through the effort or activity or agency of a person or thing\n",
            "____________\n",
            "['it is not regarded as one of his more memorable works', 'the symphony was hailed as an ingenious work', 'he was indebted to the pioneering work of John Dewey', 'the work of an active imagination', 'erosion is the work of wind or water over time']\n",
            "____________\n",
            "the occupation for which you are paid\n",
            "____________\n",
            "['he is looking for employment', 'a lot of people are out of work']\n",
            "____________\n",
            "applying the mind to learning and understanding a subject (especially by reading)\n",
            "____________\n",
            "['mastering a second language requires a lot of work', 'no schools offer graduate study in interior design']\n",
            "____________\n",
            "(physics) a manifestation of energy; the transfer of energy from one physical system to another expressed as the product of a force and the distance through which it moves a body in the direction of that force\n",
            "____________\n",
            "['work equals force times distance']\n",
            "____________\n",
            "a place where work is done\n",
            "____________\n",
            "['he arrived at work early today']\n",
            "____________\n",
            "the total output of a writer or artist (or a substantial part of it)\n",
            "____________\n",
            "['he studied the entire Wagnerian oeuvre', \"Picasso's work can be divided into periods\"]\n",
            "____________\n",
            "exert oneself by doing mental or physical work for a purpose or out of necessity\n",
            "____________\n",
            "['I will work hard to improve my grades', 'she worked hard for better living conditions for the poor']\n",
            "____________\n",
            "be employed\n",
            "____________\n",
            "['Is your husband working again?', 'My wife never worked', 'Do you want to work after the age of 60?', 'She never did any work because she inherited a lot of money', 'She works as a waitress to put herself through college']\n",
            "____________\n",
            "have an effect or outcome; often the one desired or expected\n",
            "____________\n",
            "[\"The voting process doesn't work as well as people thought\", 'How does your idea work in practice?', \"This method doesn't work\", 'The breaks of my new car act quickly', 'The medicine works only if you take it with a lot of water']\n",
            "____________\n",
            "perform as expected when applied\n",
            "____________\n",
            "[\"The washing machine won't go unless it's plugged in\", 'Does this old car still run well?', \"This old radio doesn't work anymore\"]\n",
            "____________\n",
            "shape, form, or improve a material\n",
            "____________\n",
            "['work stone into tools', 'process iron', 'work the metal']\n",
            "____________\n",
            "give a workout to\n",
            "____________\n",
            "['Some parents exercise their infants', 'My personal trainer works me hard', \"work one's muscles\", 'this puzzle will exercise your mind']\n",
            "____________\n",
            "proceed along a path\n",
            "____________\n",
            "[\"work one's way through the crowd\", \"make one's way into the forest\"]\n",
            "____________\n",
            "operate in a certain place, area, or specialty\n",
            "____________\n",
            "['She works the night clubs', 'The salesman works the Midwest', 'This artist works mostly in acrylics']\n"
          ],
          "name": "stdout"
        }
      ]
    },
    {
      "cell_type": "code",
      "metadata": {
        "id": "pDen3lZQjJAc",
        "colab_type": "code",
        "colab": {}
      },
      "source": [
        ""
      ],
      "execution_count": 0,
      "outputs": []
    }
  ]
}