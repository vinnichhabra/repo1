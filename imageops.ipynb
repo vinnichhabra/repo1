{
  "nbformat": 4,
  "nbformat_minor": 0,
  "metadata": {
    "colab": {
      "name": "imageops.ipynb",
      "version": "0.3.2",
      "provenance": [],
      "collapsed_sections": [],
      "include_colab_link": true
    },
    "kernelspec": {
      "name": "python3",
      "display_name": "Python 3"
    }
  },
  "cells": [
    {
      "cell_type": "markdown",
      "metadata": {
        "id": "view-in-github",
        "colab_type": "text"
      },
      "source": [
        "<a href=\"https://colab.research.google.com/github/vinnichhabra/repo1/blob/master/imageops.ipynb\" target=\"_parent\"><img src=\"https://colab.research.google.com/assets/colab-badge.svg\" alt=\"Open In Colab\"/></a>"
      ]
    },
    {
      "cell_type": "code",
      "metadata": {
        "id": "1lf1sigCM085",
        "colab_type": "code",
        "colab": {}
      },
      "source": [
        "#!usr/bin/python3\n",
        "import cv2\n",
        "#starting camera\n",
        "cap=cv2.videpcapture(0) #first camera\n",
        "#to check camera is started or not\n",
        "if cap.isOpened():\n",
        "  print(\"camera is ready to take pictures\")\n",
        "  else:\n",
        "    print(\"check your web cam drivers\") \n",
        "    #now we can take read input from camera\n",
        "    status,img=cap.read() #it will take first picture\n",
        "    status1,img1=cap.read()# it will take second picture\n",
        "    #now showing the picture clicked by camera\n",
        "    cv2.imshow('liveimage',img)\n",
        "    cv2.imshow('liveimage1',img1)\n",
        "    cv2.waitkey(0)\n",
        "    #to close camera\n",
        "    cap.release"
      ],
      "execution_count": 0,
      "outputs": []
    }
  ]
}